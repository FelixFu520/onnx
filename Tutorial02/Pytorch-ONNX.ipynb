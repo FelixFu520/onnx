{
 "cells": [
  {
   "cell_type": "markdown",
   "metadata": {},
   "source": [
    "### 官方案例\n",
    "https://pytorch.org/docs/master/onnx.html#example-end-to-end-alexnet-from-pytorch-to-onnx   \n",
    "## Example: End-to-end AlexNet from PyTorch to ONNX\n",
    "Here is a simple script which exports a pretrained AlexNet as defined in torchvision into ONNX. It runs a single round of inference and then saves the resulting traced model to alexnet.onnx:"
   ]
  },
  {
   "cell_type": "code",
   "execution_count": 1,
   "metadata": {},
   "outputs": [
    {
     "name": "stdout",
     "output_type": "stream",
     "text": [
      "graph(%actual_input_1 : Float(10, 3, 224, 224)\n",
      "      %learned_0 : Float(64, 3, 11, 11)\n",
      "      %learned_1 : Float(64)\n",
      "      %learned_2 : Float(192, 64, 5, 5)\n",
      "      %learned_3 : Float(192)\n",
      "      %learned_4 : Float(384, 192, 3, 3)\n",
      "      %learned_5 : Float(384)\n",
      "      %learned_6 : Float(256, 384, 3, 3)\n",
      "      %learned_7 : Float(256)\n",
      "      %learned_8 : Float(256, 256, 3, 3)\n",
      "      %learned_9 : Float(256)\n",
      "      %learned_10 : Float(4096, 9216)\n",
      "      %learned_11 : Float(4096)\n",
      "      %learned_12 : Float(4096, 4096)\n",
      "      %learned_13 : Float(4096)\n",
      "      %learned_14 : Float(1000, 4096)\n",
      "      %learned_15 : Float(1000)) {\n",
      "  %17 : Float(10, 64, 55, 55) = onnx::Conv[dilations=[1, 1], group=1, kernel_shape=[11, 11], pads=[2, 2, 2, 2], strides=[4, 4]](%actual_input_1, %learned_0, %learned_1), scope: AlexNet/Sequential[features]/Conv2d[0]\n",
      "  %18 : Float(10, 64, 55, 55) = onnx::Relu(%17), scope: AlexNet/Sequential[features]/ReLU[1]\n",
      "  %19 : Float(10, 64, 27, 27) = onnx::MaxPool[kernel_shape=[3, 3], pads=[0, 0, 0, 0], strides=[2, 2]](%18), scope: AlexNet/Sequential[features]/MaxPool2d[2]\n",
      "  %20 : Float(10, 192, 27, 27) = onnx::Conv[dilations=[1, 1], group=1, kernel_shape=[5, 5], pads=[2, 2, 2, 2], strides=[1, 1]](%19, %learned_2, %learned_3), scope: AlexNet/Sequential[features]/Conv2d[3]\n",
      "  %21 : Float(10, 192, 27, 27) = onnx::Relu(%20), scope: AlexNet/Sequential[features]/ReLU[4]\n",
      "  %22 : Float(10, 192, 13, 13) = onnx::MaxPool[kernel_shape=[3, 3], pads=[0, 0, 0, 0], strides=[2, 2]](%21), scope: AlexNet/Sequential[features]/MaxPool2d[5]\n",
      "  %23 : Float(10, 384, 13, 13) = onnx::Conv[dilations=[1, 1], group=1, kernel_shape=[3, 3], pads=[1, 1, 1, 1], strides=[1, 1]](%22, %learned_4, %learned_5), scope: AlexNet/Sequential[features]/Conv2d[6]\n",
      "  %24 : Float(10, 384, 13, 13) = onnx::Relu(%23), scope: AlexNet/Sequential[features]/ReLU[7]\n",
      "  %25 : Float(10, 256, 13, 13) = onnx::Conv[dilations=[1, 1], group=1, kernel_shape=[3, 3], pads=[1, 1, 1, 1], strides=[1, 1]](%24, %learned_6, %learned_7), scope: AlexNet/Sequential[features]/Conv2d[8]\n",
      "  %26 : Float(10, 256, 13, 13) = onnx::Relu(%25), scope: AlexNet/Sequential[features]/ReLU[9]\n",
      "  %27 : Float(10, 256, 13, 13) = onnx::Conv[dilations=[1, 1], group=1, kernel_shape=[3, 3], pads=[1, 1, 1, 1], strides=[1, 1]](%26, %learned_8, %learned_9), scope: AlexNet/Sequential[features]/Conv2d[10]\n",
      "  %28 : Float(10, 256, 13, 13) = onnx::Relu(%27), scope: AlexNet/Sequential[features]/ReLU[11]\n",
      "  %29 : Float(10, 256, 6, 6) = onnx::MaxPool[kernel_shape=[3, 3], pads=[0, 0, 0, 0], strides=[2, 2]](%28), scope: AlexNet/Sequential[features]/MaxPool2d[12]\n",
      "  %30 : Long() = onnx::Constant[value={0}](), scope: AlexNet\n",
      "  %31 : Tensor = onnx::Shape(%29), scope: AlexNet\n",
      "  %32 : Long() = onnx::Gather[axis=0](%31, %30), scope: AlexNet\n",
      "  %33 : Long() = onnx::Constant[value={9216}](), scope: AlexNet\n",
      "  %34 : Tensor = onnx::Unsqueeze[axes=[0]](%32)\n",
      "  %35 : Tensor = onnx::Unsqueeze[axes=[0]](%33)\n",
      "  %36 : Tensor = onnx::Concat[axis=0](%34, %35)\n",
      "  %37 : Float(10, 9216) = onnx::Reshape(%29, %36), scope: AlexNet\n",
      "  %38 : Float(10, 9216), %39 : Tensor = onnx::Dropout[ratio=0.5](%37), scope: AlexNet/Sequential[classifier]/Dropout[0]\n",
      "  %40 : Float(10, 4096) = onnx::Gemm[alpha=1, beta=1, transB=1](%38, %learned_10, %learned_11), scope: AlexNet/Sequential[classifier]/Dropout[0]\n",
      "  %41 : Float(10, 4096) = onnx::Relu(%40), scope: AlexNet/Sequential[classifier]/ReLU[2]\n",
      "  %42 : Float(10, 4096), %43 : Tensor = onnx::Dropout[ratio=0.5](%41), scope: AlexNet/Sequential[classifier]/Dropout[3]\n",
      "  %44 : Float(10, 4096) = onnx::Gemm[alpha=1, beta=1, transB=1](%42, %learned_12, %learned_13), scope: AlexNet/Sequential[classifier]/Dropout[3]\n",
      "  %45 : Float(10, 4096) = onnx::Relu(%44), scope: AlexNet/Sequential[classifier]/ReLU[5]\n",
      "  %output1 : Float(10, 1000) = onnx::Gemm[alpha=1, beta=1, transB=1](%45, %learned_14, %learned_15), scope: AlexNet/Sequential[classifier]/ReLU[5]\n",
      "  return (%output1);\n",
      "}\n",
      "\n"
     ]
    }
   ],
   "source": [
    "import torch\n",
    "import torchvision\n",
    "\n",
    "dummy_input = torch.randn(10, 3, 224, 224)\n",
    "model = torchvision.models.alexnet(pretrained=True)\n",
    "\n",
    "# Providing input and output names sets the display names for values\n",
    "# within the model's graph. Setting these does not change the semantics\n",
    "# of the graph; it is only for readability.\n",
    "#\n",
    "# The inputs to the network consist of the flat list of inputs (i.e.\n",
    "# the values you would pass to the forward() method) followed by the\n",
    "# flat list of parameters. You can partially specify names, i.e. provide\n",
    "# a list here shorter than the number of inputs to the model, and we will\n",
    "# only set that subset of names, starting from the beginning.\n",
    "input_names = [ \"actual_input_1\" ] + [ \"learned_%d\" % i for i in range(16) ]\n",
    "output_names = [ \"output1\" ]\n",
    "\n",
    "torch.onnx.export(model, dummy_input, \"alexnet.onnx\", verbose=True, input_names=input_names, output_names=output_names)"
   ]
  },
  {
   "cell_type": "markdown",
   "metadata": {},
   "source": [
    "The resulting alexnet.onnx is a binary protobuf file which contains both the network structure and parameters of the model you exported (in this case, AlexNet). The keyword argument verbose=True causes the exporter to print out a human-readable representation of the network:\n",
    "\n",
    "You can also verify the protobuf using the ONNX library. You can install ONNX with conda:    \n",
    "conda install -c conda-forge onnx   \n",
    "\n",
    "Then, you can run:"
   ]
  },
  {
   "cell_type": "code",
   "execution_count": 1,
   "metadata": {
    "scrolled": true
   },
   "outputs": [
    {
     "data": {
      "text/plain": [
       "'graph torch-jit-export (\\n  %actual_input_1[FLOAT, 10x3x224x224]\\n) optional inputs with matching initializers (\\n  %learned_0[FLOAT, 64x3x11x11]\\n  %learned_1[FLOAT, 64]\\n  %learned_2[FLOAT, 192x64x5x5]\\n  %learned_3[FLOAT, 192]\\n  %learned_4[FLOAT, 384x192x3x3]\\n  %learned_5[FLOAT, 384]\\n  %learned_6[FLOAT, 256x384x3x3]\\n  %learned_7[FLOAT, 256]\\n  %learned_8[FLOAT, 256x256x3x3]\\n  %learned_9[FLOAT, 256]\\n  %learned_10[FLOAT, 4096x9216]\\n  %learned_11[FLOAT, 4096]\\n  %learned_12[FLOAT, 4096x4096]\\n  %learned_13[FLOAT, 4096]\\n  %learned_14[FLOAT, 1000x4096]\\n  %learned_15[FLOAT, 1000]\\n) {\\n  %17 = Conv[dilations = [1, 1], group = 1, kernel_shape = [11, 11], pads = [2, 2, 2, 2], strides = [4, 4]](%actual_input_1, %learned_0, %learned_1)\\n  %18 = Relu(%17)\\n  %19 = MaxPool[kernel_shape = [3, 3], pads = [0, 0, 0, 0], strides = [2, 2]](%18)\\n  %20 = Conv[dilations = [1, 1], group = 1, kernel_shape = [5, 5], pads = [2, 2, 2, 2], strides = [1, 1]](%19, %learned_2, %learned_3)\\n  %21 = Relu(%20)\\n  %22 = MaxPool[kernel_shape = [3, 3], pads = [0, 0, 0, 0], strides = [2, 2]](%21)\\n  %23 = Conv[dilations = [1, 1], group = 1, kernel_shape = [3, 3], pads = [1, 1, 1, 1], strides = [1, 1]](%22, %learned_4, %learned_5)\\n  %24 = Relu(%23)\\n  %25 = Conv[dilations = [1, 1], group = 1, kernel_shape = [3, 3], pads = [1, 1, 1, 1], strides = [1, 1]](%24, %learned_6, %learned_7)\\n  %26 = Relu(%25)\\n  %27 = Conv[dilations = [1, 1], group = 1, kernel_shape = [3, 3], pads = [1, 1, 1, 1], strides = [1, 1]](%26, %learned_8, %learned_9)\\n  %28 = Relu(%27)\\n  %29 = MaxPool[kernel_shape = [3, 3], pads = [0, 0, 0, 0], strides = [2, 2]](%28)\\n  %30 = Constant[value = <Scalar Tensor []>]()\\n  %31 = Shape(%29)\\n  %32 = Gather[axis = 0](%31, %30)\\n  %33 = Constant[value = <Scalar Tensor []>]()\\n  %34 = Unsqueeze[axes = [0]](%32)\\n  %35 = Unsqueeze[axes = [0]](%33)\\n  %36 = Concat[axis = 0](%34, %35)\\n  %37 = Reshape(%29, %36)\\n  %38, %39 = Dropout[ratio = 0.5](%37)\\n  %40 = Gemm[alpha = 1, beta = 1, transB = 1](%38, %learned_10, %learned_11)\\n  %41 = Relu(%40)\\n  %42, %43 = Dropout[ratio = 0.5](%41)\\n  %44 = Gemm[alpha = 1, beta = 1, transB = 1](%42, %learned_12, %learned_13)\\n  %45 = Relu(%44)\\n  %output1 = Gemm[alpha = 1, beta = 1, transB = 1](%45, %learned_14, %learned_15)\\n  return %output1\\n}'"
      ]
     },
     "execution_count": 1,
     "metadata": {},
     "output_type": "execute_result"
    }
   ],
   "source": [
    "import onnx\n",
    "\n",
    "# Load the ONNX model\n",
    "model = onnx.load(\"alexnet.onnx\")\n",
    "\n",
    "# Check that the IR is well formed\n",
    "onnx.checker.check_model(model)\n",
    "\n",
    "# Print a human readable representation of the graph\n",
    "onnx.helper.printable_graph(model.graph)\n"
   ]
  },
  {
   "cell_type": "markdown",
   "metadata": {},
   "source": [
    "You can also run the exported model with ONNX Runtime, you will need to install ONNX Runtime: please follow these instructions.\n",
    "\n",
    "Once these are installed, you can use the backend for ONNX Runtime:"
   ]
  },
  {
   "cell_type": "code",
   "execution_count": 5,
   "metadata": {},
   "outputs": [
    {
     "name": "stdout",
     "output_type": "stream",
     "text": [
      "[[ 2.8922364e-01 -1.4583788e+00 -1.1044384e+00 ... -1.3596333e+00\n",
      "  -8.9589554e-01  8.7897116e-01]\n",
      " [ 4.7992855e-02 -1.3752857e+00 -1.5788202e+00 ... -1.3869075e+00\n",
      "  -1.3458562e+00  1.3426404e+00]\n",
      " [ 1.0668859e-03 -1.2775283e+00 -1.3748541e+00 ... -1.0736375e+00\n",
      "  -1.1849667e+00  1.2001125e+00]\n",
      " ...\n",
      " [ 8.2895130e-02 -1.6536072e+00 -2.3187499e+00 ... -1.6493472e+00\n",
      "  -9.1081142e-01  8.1337160e-01]\n",
      " [ 2.5782725e-01 -1.5074546e+00 -1.0070571e+00 ... -9.0397274e-01\n",
      "  -1.1938461e+00  1.3289818e+00]\n",
      " [ 6.3743442e-03 -1.3554738e+00 -1.1884270e+00 ... -8.5809034e-01\n",
      "  -1.1055359e+00  1.1084468e+00]]\n"
     ]
    }
   ],
   "source": [
    "# ...continuing from above\n",
    "import onnxruntime as ort\n",
    "import numpy as np\n",
    "\n",
    "ort_session = ort.InferenceSession('alexnet.onnx')\n",
    "\n",
    "outputs = ort_session.run(None, {'actual_input_1': np.random.randn(10, 3, 224, 224).astype(np.float32)})\n",
    "\n",
    "print(outputs[0])"
   ]
  },
  {
   "cell_type": "code",
   "execution_count": null,
   "metadata": {},
   "outputs": [],
   "source": []
  }
 ],
 "metadata": {
  "kernelspec": {
   "display_name": "Python 3",
   "language": "python",
   "name": "python3"
  },
  "language_info": {
   "codemirror_mode": {
    "name": "ipython",
    "version": 3
   },
   "file_extension": ".py",
   "mimetype": "text/x-python",
   "name": "python",
   "nbconvert_exporter": "python",
   "pygments_lexer": "ipython3",
   "version": "3.6.9"
  }
 },
 "nbformat": 4,
 "nbformat_minor": 4
}
