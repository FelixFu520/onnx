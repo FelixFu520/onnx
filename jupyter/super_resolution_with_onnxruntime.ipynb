{
 "cells": [
  {
   "cell_type": "code",
   "execution_count": 1,
   "metadata": {},
   "outputs": [],
   "source": [
    "%matplotlib inline"
   ]
  },
  {
   "cell_type": "markdown",
   "metadata": {},
   "source": [
    "# Exporting a Model from PyTorch to ONNX and Running it using ONNX Runtime\n",
    "\n",
    "In this tutorial, we describe how to convert a model defined\n",
    "in PyTorch into the ONNX format and then run it with ONNX Runtime.\n",
    "\n",
    "ONNX Runtime is a performance-focused engine for ONNX models,\n",
    "which inferences efficiently across multiple platforms and hardware\n",
    "(Windows, Linux, and Mac and on both CPUs and GPUs).\n",
    "ONNX Runtime has proved to considerably increase performance over\n",
    "multiple models as explained [here](\n",
    "https://cloudblogs.microsoft.com/opensource/2019/05/22/onnx-runtime-machine-learning-inferencing-0-4-release)\n",
    "\n",
    "For this tutorial, you will need to install [ONNX](https://github.com/onnx/onnx) and [ONNX Runtime](https://github.com/microsoft/onnxruntime).You can get binary builds of ONNX and ONNX Runtime with\n",
    "``pip install onnx onnxruntime``.\n",
    "Note that ONNX Runtime is compatible with Python versions 3.5 to 3.7.\n",
    "\n",
    "``NOTE``: This tutorial needs PyTorch master branch which can be installed by following\n",
    "the instructions [here](https://github.com/pytorch/pytorch#from-source)\n",
    "\n",
    "\n"
   ]
  },
  {
   "cell_type": "code",
   "execution_count": 2,
   "metadata": {},
   "outputs": [],
   "source": [
    "# Some standard imports\n",
    "import io\n",
    "import numpy as np\n",
    "\n",
    "from torch import nn\n",
    "import torch.utils.model_zoo as model_zoo\n",
    "import torch.onnx"
   ]
  },
  {
   "cell_type": "markdown",
   "metadata": {},
   "source": [
    "Super-resolution is a way of increasing the resolution of images, videos\n",
    "and is widely used in image processing or video editing. For this\n",
    "tutorial, we will use a small super-resolution model.\n",
    "\n",
    "First, let's create a SuperResolution model in PyTorch.\n",
    "This model uses the efficient sub-pixel convolution layer described in\n",
    "[\"Real-Time Single Image and Video Super-Resolution Using an Efficient\n",
    "Sub-Pixel Convolutional Neural Network\" - Shi et al](https://arxiv.org/abs/1609.05158)\n",
    "for increasing the resolution of an image by an upscale factor.\n",
    "The model expects the Y component of the YCbCr of an image as an input, and\n",
    "outputs the upscaled Y component in super resolution.\n",
    "\n",
    "[The\n",
    "model](https://github.com/pytorch/examples/blob/master/super_resolution/model.py)\n",
    "comes directly from PyTorch's examples without modification:\n",
    "\n",
    "\n"
   ]
  },
  {
   "cell_type": "code",
   "execution_count": 3,
   "metadata": {},
   "outputs": [],
   "source": [
    "# Super Resolution model definition in PyTorch\n",
    "import torch.nn as nn\n",
    "import torch.nn.init as init\n",
    "\n",
    "\n",
    "class SuperResolutionNet(nn.Module):\n",
    "    def __init__(self, upscale_factor, inplace=False):\n",
    "        super(SuperResolutionNet, self).__init__()\n",
    "\n",
    "        self.relu = nn.ReLU(inplace=inplace)\n",
    "        self.conv1 = nn.Conv2d(1, 64, (5, 5), (1, 1), (2, 2))\n",
    "        self.conv2 = nn.Conv2d(64, 64, (3, 3), (1, 1), (1, 1))\n",
    "        self.conv3 = nn.Conv2d(64, 32, (3, 3), (1, 1), (1, 1))\n",
    "        self.conv4 = nn.Conv2d(32, upscale_factor ** 2, (3, 3), (1, 1), (1, 1))\n",
    "        self.pixel_shuffle = nn.PixelShuffle(upscale_factor)\n",
    "\n",
    "        self._initialize_weights()\n",
    "\n",
    "    def forward(self, x):\n",
    "        x = self.relu(self.conv1(x))\n",
    "        x = self.relu(self.conv2(x))\n",
    "        x = self.relu(self.conv3(x))\n",
    "        x = self.pixel_shuffle(self.conv4(x))\n",
    "        return x\n",
    "\n",
    "    def _initialize_weights(self):\n",
    "        init.orthogonal_(self.conv1.weight, init.calculate_gain('relu'))\n",
    "        init.orthogonal_(self.conv2.weight, init.calculate_gain('relu'))\n",
    "        init.orthogonal_(self.conv3.weight, init.calculate_gain('relu'))\n",
    "        init.orthogonal_(self.conv4.weight)\n",
    "\n",
    "# Create the super-resolution model by using the above model definition.\n",
    "torch_model = SuperResolutionNet(upscale_factor=3)"
   ]
  },
  {
   "cell_type": "markdown",
   "metadata": {},
   "source": [
    "Ordinarily, you would now train this model; however, for this tutorial,\n",
    "we will instead download some pre-trained weights. Note that this model\n",
    "was not trained fully for good accuracy and is used here for\n",
    "demonstration purposes only.\n",
    "\n",
    "It is important to call ``torch_model.eval()`` or ``torch_model.train(False)``\n",
    "before exporting the model, to turn the model to inference mode.\n",
    "This is required since operators like dropout or batchnorm behave\n",
    "differently in inference and training mode.\n",
    "\n",
    "\n"
   ]
  },
  {
   "cell_type": "code",
   "execution_count": 4,
   "metadata": {},
   "outputs": [
    {
     "data": {
      "text/plain": [
       "SuperResolutionNet(\n",
       "  (relu): ReLU()\n",
       "  (conv1): Conv2d(1, 64, kernel_size=(5, 5), stride=(1, 1), padding=(2, 2))\n",
       "  (conv2): Conv2d(64, 64, kernel_size=(3, 3), stride=(1, 1), padding=(1, 1))\n",
       "  (conv3): Conv2d(64, 32, kernel_size=(3, 3), stride=(1, 1), padding=(1, 1))\n",
       "  (conv4): Conv2d(32, 9, kernel_size=(3, 3), stride=(1, 1), padding=(1, 1))\n",
       "  (pixel_shuffle): PixelShuffle(upscale_factor=3)\n",
       ")"
      ]
     },
     "execution_count": 4,
     "metadata": {},
     "output_type": "execute_result"
    }
   ],
   "source": [
    "# Load pretrained model weights\n",
    "model_url = 'https://s3.amazonaws.com/pytorch/test_data/export/superres_epoch100-44c6958e.pth'\n",
    "batch_size = 1    # just a random number\n",
    "\n",
    "# Initialize model with the pretrained weights\n",
    "map_location = lambda storage, loc: storage\n",
    "if torch.cuda.is_available():\n",
    "    map_location = None\n",
    "torch_model.load_state_dict(model_zoo.load_url(model_url, map_location=map_location))\n",
    "\n",
    "# set the model to inference mode\n",
    "torch_model.eval()"
   ]
  },
  {
   "cell_type": "markdown",
   "metadata": {},
   "source": [
    "Exporting a model in PyTorch works via tracing or scripting. This\n",
    "tutorial will use as an example a model exported by tracing.\n",
    "To export a model, we call the ``torch.onnx.export()`` function.\n",
    "This will execute the model, recording a trace of what operators\n",
    "are used to compute the outputs.\n",
    "Because ``export`` runs the model, we need to provide an input\n",
    "tensor ``x``. The values in this can be random as long as it is the\n",
    "right type and size.\n",
    "Note that the input size will be fixed in the exported ONNX graph for\n",
    "all the input's dimensions, unless specified as a dynamic axes.\n",
    "In this example we export the model with an input of batch_size 1,\n",
    "but then specify the first dimension as dynamic in the ``dynamic_axes``\n",
    "parameter in ``torch.onnx.export()``.\n",
    "The exported model will thus accept inputs of size [batch_size, 1, 224, 224]\n",
    "where batch_size can be variable.\n",
    "\n",
    "To learn more details about PyTorch's export interface, check out the\n",
    "[torch.onnx documentation](https://pytorch.org/docs/master/onnx.html).\n",
    "\n",
    "\n"
   ]
  },
  {
   "cell_type": "code",
   "execution_count": 5,
   "metadata": {},
   "outputs": [],
   "source": [
    "# Input to the model\n",
    "x = torch.randn(batch_size, 1, 224, 224, requires_grad=True)\n",
    "torch_out = torch_model(x)\n",
    "\n",
    "# Export the model\n",
    "torch.onnx.export(torch_model,               # model being run\n",
    "                  x,                         # model input (or a tuple for multiple inputs)\n",
    "                  \"../models/super_resolution.onnx\",   # where to save the model (can be a file or file-like object)\n",
    "                  export_params=True,        # store the trained parameter weights inside the model file\n",
    "                  opset_version=10,          # the ONNX version to export the model to\n",
    "                  do_constant_folding=True,  # whether to execute constant folding for optimization\n",
    "                  input_names = ['input'],   # the model's input names\n",
    "                  output_names = ['output'], # the model's output names\n",
    "                  dynamic_axes={'input' : {0 : 'batch_size'},    # variable lenght axes\n",
    "                                'output' : {0 : 'batch_size'}})"
   ]
  },
  {
   "cell_type": "markdown",
   "metadata": {},
   "source": [
    "We also computed ``torch_out``, the output after of the model,\n",
    "which we will use to verify that the model we exported computes\n",
    "the same values when run in ONNX Runtime.\n",
    "\n",
    "But before verifying the model's output with ONNX Runtime, we will check\n",
    "the ONNX model with ONNX's API.\n",
    "First, ``onnx.load(\"super_resolution.onnx\")`` will load the saved model and\n",
    "will output a onnx.ModelProto structure (a top-level file/container format for bundling a ML model.\n",
    "For more information [onnx.proto documentation ](https://github.com/onnx/onnx/blob/master/onnx/onnx.proto).\n",
    "Then, ``onnx.checker.check_model(onnx_model)`` will verify the model's structure\n",
    "and confirm that the model has a valid schema.\n",
    "The validity of the ONNX graph is verified by checking the model's\n",
    "version, the graph's structure, as well as the nodes and their inputs\n",
    "and outputs.\n",
    "\n",
    "\n"
   ]
  },
  {
   "cell_type": "code",
   "execution_count": 6,
   "metadata": {},
   "outputs": [],
   "source": [
    "import onnx\n",
    "\n",
    "onnx_model = onnx.load(\"../models/super_resolution.onnx\")\n",
    "onnx.checker.check_model(onnx_model)"
   ]
  },
  {
   "cell_type": "markdown",
   "metadata": {},
   "source": [
    "Now let's compute the output using ONNX Runtime's Python APIs.\n",
    "This part can normally be done in a separate process or on another\n",
    "machine, but we will continue in the same process so that we can\n",
    "verify that ONNX Runtime and PyTorch are computing the same value\n",
    "for the network.\n",
    "\n",
    "In order to run the model with ONNX Runtime, we need to create an\n",
    "inference session for the model with the chosen configuration\n",
    "parameters (here we use the default config).\n",
    "Once the session is created, we evaluate the model using the run() api.\n",
    "The output of this call is a list containing the outputs of the model\n",
    "computed by ONNX Runtime.\n",
    "\n",
    "\n"
   ]
  },
  {
   "cell_type": "code",
   "execution_count": 7,
   "metadata": {},
   "outputs": [
    {
     "name": "stdout",
     "output_type": "stream",
     "text": [
      "Exported model has been tested with ONNXRuntime, and the result looks good!\n"
     ]
    }
   ],
   "source": [
    "import onnxruntime\n",
    "\n",
    "ort_session = onnxruntime.InferenceSession(\"../models/super_resolution.onnx\")\n",
    "\n",
    "def to_numpy(tensor):\n",
    "    return tensor.detach().cpu().numpy() if tensor.requires_grad else tensor.cpu().numpy()\n",
    "\n",
    "# compute ONNX Runtime output prediction\n",
    "ort_inputs = {ort_session.get_inputs()[0].name: to_numpy(x)}\n",
    "ort_outs = ort_session.run(None, ort_inputs)\n",
    "\n",
    "# compare ONNX Runtime and PyTorch results\n",
    "np.testing.assert_allclose(to_numpy(torch_out), ort_outs[0], rtol=1e-03, atol=1e-05)\n",
    "\n",
    "print(\"Exported model has been tested with ONNXRuntime, and the result looks good!\")"
   ]
  },
  {
   "cell_type": "markdown",
   "metadata": {},
   "source": [
    "We should see that the output of PyTorch and ONNX Runtime runs match\n",
    "numerically with the given precision (rtol=1e-03 and atol=1e-05).\n",
    "As a side-note, if they do not match then there is an issue in the\n",
    "ONNX exporter, so please contact us in that case.\n",
    "\n",
    "\n"
   ]
  },
  {
   "cell_type": "markdown",
   "metadata": {},
   "source": [
    "Running the model on an image using ONNX Runtime\n",
    "~~~~~~~~~~~~~~~~~~~~~~~~~~~~~~~~~~~~~~~~~~~~~~~~\n",
    "\n",
    "\n"
   ]
  },
  {
   "cell_type": "markdown",
   "metadata": {},
   "source": [
    "So far we have exported a model from PyTorch and shown how to load it\n",
    "and run it in ONNX Runtime with a dummy tensor as an input.\n",
    "\n"
   ]
  },
  {
   "cell_type": "markdown",
   "metadata": {},
   "source": [
    "For this tutorial, we will use a famous cat image used widely which\n",
    "looks like below\n",
    "\n",
    "![](../images/cat.jpg)\n",
    "\n",
    "\n"
   ]
  },
  {
   "cell_type": "markdown",
   "metadata": {},
   "source": [
    "First, let's load the image, pre-process it using standard PIL\n",
    "python library. Note that this preprocessing is the standard practice of\n",
    "processing data for training/testing neural networks.\n",
    "\n",
    "We first resize the image to fit the size of the model's input (224x224).\n",
    "Then we split the image into its Y, Cb, and Cr components.\n",
    "These components represent a greyscale image (Y), and\n",
    "the blue-difference (Cb) and red-difference (Cr) chroma components.\n",
    "The Y component being more sensitive to the human eye, we are\n",
    "interested in this component which we will be transforming.\n",
    "After extracting the Y component, we convert it to a tensor which\n",
    "will be the input of our model.\n",
    "\n",
    "\n"
   ]
  },
  {
   "cell_type": "code",
   "execution_count": 8,
   "metadata": {},
   "outputs": [
    {
     "name": "stdout",
     "output_type": "stream",
     "text": [
      "<class 'torch.Tensor'> torch.Size([1, 1, 224, 224])\n"
     ]
    }
   ],
   "source": [
    "from PIL import Image\n",
    "import torchvision.transforms as transforms\n",
    "\n",
    "img = Image.open(\"../images/cat.jpg\")\n",
    "\n",
    "resize = transforms.Resize([224, 224])\n",
    "img = resize(img)\n",
    "\n",
    "img_ycbcr = img.convert('YCbCr')\n",
    "img_y, img_cb, img_cr = img_ycbcr.split()\n",
    "\n",
    "to_tensor = transforms.ToTensor()\n",
    "img_y = to_tensor(img_y)\n",
    "img_y.unsqueeze_(0)\n",
    "\n",
    "print(type(img_y), img_y.shape)"
   ]
  },
  {
   "cell_type": "markdown",
   "metadata": {},
   "source": [
    "Now, as a next step, let's take the tensor representing the\n",
    "greyscale resized cat image and run the super-resolution model in\n",
    "ONNX Runtime as explained previously.\n",
    "\n",
    "\n"
   ]
  },
  {
   "cell_type": "code",
   "execution_count": 9,
   "metadata": {},
   "outputs": [],
   "source": [
    "ort_inputs = {ort_session.get_inputs()[0].name: to_numpy(img_y)}\n",
    "ort_outs = ort_session.run(None, ort_inputs)\n",
    "img_out_y = ort_outs[0]"
   ]
  },
  {
   "cell_type": "code",
   "execution_count": 10,
   "metadata": {},
   "outputs": [
    {
     "name": "stdout",
     "output_type": "stream",
     "text": [
      "<class 'numpy.ndarray'> (1, 1, 672, 672)\n",
      "[[0.1594826  0.18392749 0.18281619 ... 0.49523917 0.45997566 0.4098967 ]\n",
      " [0.17893156 0.2720161  0.27031672 ... 0.6387107  0.60963386 0.46842197]\n",
      " [0.2225707  0.2698424  0.26362202 ... 0.6487816  0.63083017 0.47454762]\n",
      " ...\n",
      " [0.5923772  0.66714346 0.6872308  ... 0.7169886  0.72955894 0.5931575 ]\n",
      " [0.54163    0.6098734  0.6267196  ... 0.68617743 0.6901655  0.57968223]\n",
      " [0.49894172 0.50799745 0.5031805  ... 0.53756183 0.54927623 0.5178513 ]]\n"
     ]
    }
   ],
   "source": [
    "print(type(img_out_y),img_out_y.shape)\n",
    "print(img_out_y[0][0])"
   ]
  },
  {
   "cell_type": "markdown",
   "metadata": {},
   "source": [
    "At this point, the output of the model is a tensor.\n",
    "Now, we'll process the output of the model to construct back the\n",
    "final output image from the output tensor, and save the image.\n",
    "The post-processing steps have been adopted from PyTorch\n",
    "implementation of super-resolution model\n",
    "[here](https://github.com/pytorch/examples/blob/master/super_resolution/super_resolve.py)\n",
    "\n",
    "\n"
   ]
  },
  {
   "cell_type": "code",
   "execution_count": 11,
   "metadata": {},
   "outputs": [],
   "source": [
    "img_out_y = Image.fromarray(np.uint8((img_out_y[0] * 255.0).clip(0, 255)[0]), mode='L')\n",
    "\n",
    "# get the output image follow post-processing step from PyTorch implementation\n",
    "final_img = Image.merge(\n",
    "    \"YCbCr\", [\n",
    "        img_out_y,\n",
    "        img_cb.resize(img_out_y.size, Image.BICUBIC),\n",
    "        img_cr.resize(img_out_y.size, Image.BICUBIC),\n",
    "    ]).convert(\"RGB\")\n",
    "\n",
    "# Save the image, we will compare this with the output image from mobile device\n",
    "final_img.save(\"../images/cat_superres_with_ort.jpg\")"
   ]
  },
  {
   "cell_type": "markdown",
   "metadata": {},
   "source": [
    "![](../images/cat_superres_with_ort.jpg)\n",
    "\n",
    "\n",
    "ONNX Runtime being a cross platform engine, you can run it across\n",
    "multiple platforms and on both CPUs and GPUs.\n",
    "\n",
    "ONNX Runtime can also be deployed to the cloud for model inferencing\n",
    "using Azure Machine Learning Services. More information [here ](https://docs.microsoft.com/en-us/azure/machine-learning/service/concept-onnx).\n",
    "\n",
    "More information about ONNX Runtime's performance [here](https://github.com/microsoft/onnxruntime#high-performance).\n",
    "\n",
    "\n",
    "For more information about ONNX Runtime [here](https://github.com/microsoft/onnxruntime).\n",
    "\n",
    "\n"
   ]
  },
  {
   "cell_type": "code",
   "execution_count": 12,
   "metadata": {
    "scrolled": false
   },
   "outputs": [
    {
     "name": "stdout",
     "output_type": "stream",
     "text": [
      "Package                Version\n",
      "---------------------- -------------------\n",
      "absl-py                0.9.0\n",
      "adabound               0.0.5\n",
      "appdirs                1.4.4\n",
      "asn1crypto             0.24.0\n",
      "attrs                  17.4.0\n",
      "Automat                0.6.0\n",
      "backcall               0.2.0\n",
      "bleach                 3.1.5\n",
      "blinker                1.4\n",
      "cachetools             4.1.1\n",
      "certifi                2018.1.18\n",
      "cffi                   1.14.0\n",
      "chardet                3.0.4\n",
      "click                  6.7\n",
      "cloud-init             19.4\n",
      "cloudpickle            1.4.1\n",
      "colorama               0.3.7\n",
      "command-not-found      0.3\n",
      "configobj              5.0.6\n",
      "constantly             15.1.0\n",
      "cryptography           2.1.4\n",
      "cycler                 0.10.0\n",
      "Cython                 0.29.17\n",
      "decorator              4.4.2\n",
      "defusedxml             0.6.0\n",
      "distro-info            0.18ubuntu0.18.04.1\n",
      "entrypoints            0.3\n",
      "Flask                  1.1.2\n",
      "future                 0.18.2\n",
      "google-auth            1.18.0\n",
      "google-auth-oauthlib   0.4.1\n",
      "grpcio                 1.30.0\n",
      "horovod                0.19.2\n",
      "httplib2               0.9.2\n",
      "hyperlink              17.3.1\n",
      "idna                   2.6\n",
      "imageio                2.9.0\n",
      "importlib-metadata     1.7.0\n",
      "incremental            16.10.1\n",
      "ipykernel              5.3.0\n",
      "ipython                7.15.0\n",
      "ipython-genutils       0.2.0\n",
      "ipywidgets             7.5.1\n",
      "itsdangerous           1.1.0\n",
      "jedi                   0.17.0\n",
      "Jinja2                 2.11.2\n",
      "joblib                 0.16.0\n",
      "jsonpatch              1.16\n",
      "jsonpointer            1.10\n",
      "jsonschema             2.6.0\n",
      "jupyter                1.0.0\n",
      "jupyter-client         6.1.3\n",
      "jupyter-console        6.1.0\n",
      "jupyter-core           4.6.3\n",
      "keyring                10.6.0\n",
      "keyrings.alt           3.0\n",
      "kiwisolver             1.2.0\n",
      "language-selector      0.1\n",
      "Mako                   1.1.3\n",
      "Markdown               3.2.2\n",
      "MarkupSafe             1.0\n",
      "matplotlib             3.2.1\n",
      "mistune                0.8.4\n",
      "mlxtend                0.17.2\n",
      "nbconvert              5.6.1\n",
      "nbformat               5.0.7\n",
      "netifaces              0.10.4\n",
      "netron                 4.3.5\n",
      "networkx               2.4\n",
      "notebook               6.0.3\n",
      "numpy                  1.18.4\n",
      "oauthlib               3.1.0\n",
      "onnx                   1.7.0\n",
      "onnxconverter-common   1.7.0\n",
      "onnxruntime            1.4.0\n",
      "onnxruntime-gpu        1.4.0\n",
      "opencv-python          4.3.0.36\n",
      "ort-gpu-nightly        1.4.0.dev202007171\n",
      "packaging              20.4\n",
      "PAM                    0.4.2\n",
      "pandas                 1.0.5\n",
      "pandocfilters          1.4.2\n",
      "parso                  0.7.0\n",
      "pexpect                4.8.0\n",
      "pickleshare            0.7.5\n",
      "Pillow                 7.1.2\n",
      "pip                    20.1\n",
      "prometheus-client      0.8.0\n",
      "prompt-toolkit         3.0.5\n",
      "protobuf               3.12.2\n",
      "psutil                 5.7.0\n",
      "ptyprocess             0.6.0\n",
      "pyasn1                 0.4.2\n",
      "pyasn1-modules         0.2.1\n",
      "pycocotools            2.0.0\n",
      "pycparser              2.20\n",
      "pycrypto               2.6.1\n",
      "pycuda                 2019.1.2\n",
      "Pygments               2.6.1\n",
      "pygobject              3.26.1\n",
      "PyJWT                  1.5.3\n",
      "pyOpenSSL              17.5.0\n",
      "pyparsing              2.4.7\n",
      "pyserial               3.4\n",
      "python-apt             1.6.5+ubuntu0.2\n",
      "python-dateutil        2.8.1\n",
      "python-debian          0.1.32\n",
      "pytools                2020.2\n",
      "pytz                   2020.1\n",
      "PyWavelets             1.1.1\n",
      "pyxdg                  0.25\n",
      "PyYAML                 3.12\n",
      "pyzmq                  19.0.1\n",
      "qtconsole              4.7.4\n",
      "QtPy                   1.9.0\n",
      "requests               2.24.0\n",
      "requests-oauthlib      1.3.0\n",
      "requests-unixsocket    0.1.5\n",
      "rsa                    4.6\n",
      "scikit-image           0.17.2\n",
      "scikit-learn           0.23.1\n",
      "scipy                  1.5.1\n",
      "SecretStorage          2.3.1\n",
      "Send2Trash             1.5.0\n",
      "service-identity       16.0.0\n",
      "setuptools             49.1.2\n",
      "six                    1.11.0\n",
      "skl2onnx               1.7.0\n",
      "sklearn                0.0\n",
      "ssh-import-id          5.7\n",
      "systemd-python         234\n",
      "tensorboard            2.2.2\n",
      "tensorboard-plugin-wit 1.7.0\n",
      "tensorrt               7.0.0.11\n",
      "terminado              0.8.3\n",
      "terminaltables         3.1.0\n",
      "testpath               0.4.4\n",
      "threadpoolctl          2.1.0\n",
      "tifffile               2020.7.17\n",
      "torch                  1.5.0\n",
      "torch2trt              0.1.0\n",
      "torchvision            0.6.0\n",
      "tornado                6.0.4\n",
      "tqdm                   4.46.0\n",
      "traitlets              4.3.3\n",
      "Twisted                17.9.0\n",
      "typing-extensions      3.7.4.2\n",
      "ufw                    0.36\n",
      "unattended-upgrades    0.1\n",
      "urllib3                1.22\n",
      "wcwidth                0.2.4\n",
      "webencodings           0.5.1\n",
      "Werkzeug               1.0.1\n",
      "wget                   3.2\n",
      "wheel                  0.30.0\n",
      "widgetsnbextension     3.5.1\n",
      "zipp                   3.1.0\n",
      "zope.interface         4.3.2\n",
      "\u001b[33mWARNING: You are using pip version 20.1; however, version 20.1.1 is available.\n",
      "You should consider upgrading via the '/usr/bin/python3 -m pip install --upgrade pip' command.\u001b[0m\n"
     ]
    }
   ],
   "source": [
    "!pip list"
   ]
  },
  {
   "cell_type": "code",
   "execution_count": null,
   "metadata": {},
   "outputs": [],
   "source": []
  }
 ],
 "metadata": {
  "kernelspec": {
   "display_name": "Python 3",
   "language": "python",
   "name": "python3"
  },
  "language_info": {
   "codemirror_mode": {
    "name": "ipython",
    "version": 3
   },
   "file_extension": ".py",
   "mimetype": "text/x-python",
   "name": "python",
   "nbconvert_exporter": "python",
   "pygments_lexer": "ipython3",
   "version": "3.6.9"
  }
 },
 "nbformat": 4,
 "nbformat_minor": 1
}
